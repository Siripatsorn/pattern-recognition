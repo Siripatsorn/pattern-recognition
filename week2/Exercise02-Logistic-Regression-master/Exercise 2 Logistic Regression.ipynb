{
 "cells": [
  {
   "cell_type": "markdown",
   "metadata": {},
   "source": [
    "# Likelihood\n",
    "\n",
    "Let's make sure we understand a fundamental statistics concept which makes the logistic regression works before we even discuss the logistic regression."
   ]
  },
  {
   "cell_type": "markdown",
   "metadata": {},
   "source": [
    "Consider 2 Mangoes Farm. Here are some information about both of them."
   ]
  },
  {
   "cell_type": "markdown",
   "metadata": {},
   "source": [
    "- **Poon's Farm**\n",
    "    - 70% of mango is sour. 30% is sweet\n",
    "    \n",
    "- **Ply's Farm**\n",
    "    - 20% of mango is sour and 80% is sweet."
   ]
  },
  {
   "cell_type": "markdown",
   "metadata": {},
   "source": [
    "Now you found an unlabeled basket. With 6 Sour Mangoes and 4 Sweet Mangoes."
   ]
  },
  {
   "cell_type": "markdown",
   "metadata": {},
   "source": [
    "1) If this basket is from Poon's farm what is the probability that Poon's Farm would produce such basket?"
   ]
  },
  {
   "cell_type": "code",
   "execution_count": 1,
   "metadata": {
    "collapsed": false
   },
   "outputs": [
    {
     "data": {
      "text/plain": [
       "0.0009529568999999997"
      ]
     },
     "execution_count": 1,
     "metadata": {},
     "output_type": "execute_result"
    }
   ],
   "source": [
    "(0.7**6)*(0.3**4)   #P(Basket|Farm) "
   ]
  },
  {
   "cell_type": "markdown",
   "metadata": {},
   "source": [
    "2) If this basket is from Ply's farm what is the probability that Ply's Farm would produce such basket?"
   ]
  },
  {
   "cell_type": "code",
   "execution_count": 2,
   "metadata": {
    "collapsed": false
   },
   "outputs": [
    {
     "data": {
      "text/plain": [
       "2.6214400000000015e-05"
      ]
     },
     "execution_count": 2,
     "metadata": {},
     "output_type": "execute_result"
    }
   ],
   "source": [
    "(0.2**6)*(0.8**4)   #P(Basket|Farm)"
   ]
  },
  {
   "cell_type": "markdown",
   "metadata": {},
   "source": [
    "3) Where do you think the basket is from?"
   ]
  },
  {
   "cell_type": "code",
   "execution_count": null,
   "metadata": {
    "collapsed": true
   },
   "outputs": [],
   "source": [
    "# likelihood: prob of getting the data given the generator\n",
    "#Poon seems higher \n",
    "\n",
    "#Concept: we can pick the correct generator given a data --> given a basket of mango, we know which farm it is from  "
   ]
  },
  {
   "cell_type": "markdown",
   "metadata": {},
   "source": [
    "4) Is your logic correct? What you just calculated is called likelihood. Is it\n",
    "\n",
    "$$\n",
    "    P(Basket|Farm) \\; \\text{ or } \\; P(Farm|Basket)\n",
    "$$"
   ]
  },
  {
   "cell_type": "code",
   "execution_count": null,
   "metadata": {
    "collapsed": true
   },
   "outputs": [],
   "source": [
    "# P(Basket|Farm) given a farm, what is the probability of that Farm would produce such basket?  ---> what we did"
   ]
  },
  {
   "cell_type": "markdown",
   "metadata": {},
   "source": [
    "5) If we want to label the basket, which one do we want to calculate?\n",
    "\n",
    "$$\n",
    "    P(Basket|Farm) \\; \\text{ or } \\; P(Farm|Basket)\n",
    "$$"
   ]
  },
  {
   "cell_type": "code",
   "execution_count": null,
   "metadata": {
    "collapsed": true
   },
   "outputs": [],
   "source": [
    "# P(Farm|Basket) given a basket, which farm it is belonged to ---> what we want "
   ]
  },
  {
   "cell_type": "markdown",
   "metadata": {},
   "source": [
    "6) But... what we did seems very reasonable. So, Let's try to understand it a bit more. We learned from last class that\n",
    "\n",
    "$$\n",
    "P(Ply | Basket) \\times P(Basket) = P(Basket|Ply) \\times P(Ply)\n",
    "$$\n",
    "and similarily\n",
    "$$\n",
    "P(Poon | Basket) \\times P(Basket) = P(Basket|Poon) \\times P(Poon)\n",
    "$$\n",
    "\n",
    "which means if we were to choose whether the Basket comes from Ply's farm of Poon's farm we can just compare the ratio\n",
    "\n",
    "$$\n",
    "    \\frac{P(Ply | Basket)}{ P(Poon | Basket)} = \\frac{P(Basket|Ply)}{ P(Basket|Poon) } \\times \\frac{P(Ply)}{P(Poon)}\n",
    "$$\n",
    "\n",
    "So when we pick one farm over the other based on the the comparison of $P(Basket|Ply)$ and  $P(Basket|Poon)$, what did we assume on the prior terms?"
   ]
  },
  {
   "cell_type": "markdown",
   "metadata": {},
   "source": [
    "# Logistic Regression"
   ]
  },
  {
   "cell_type": "code",
   "execution_count": 4,
   "metadata": {
    "collapsed": true
   },
   "outputs": [],
   "source": [
    "%matplotlib inline\n",
    "import numpy as np\n",
    "from matplotlib import pyplot as plt\n",
    "import math\n",
    "import pandas as pd"
   ]
  },
  {
   "cell_type": "markdown",
   "metadata": {},
   "source": [
    "Let us consider the following data in `xps` and `xms`. These are features of two classes +1 and -1.\n",
    "\n",
    "When we have two classes we usually call them +1 and -1 since it simplify a lot of formula greatly."
   ]
  },
  {
   "cell_type": "markdown",
   "metadata": {},
   "source": [
    "### Main Idea\n",
    "\n",
    "The main idea here is that we are given data of two classes and we want to build a **system** which can classify the data into the two classes based on the given feature.\n",
    "\n",
    "To do that, we will search for the best the **data generator**. Then we will use that **data generator** to find the class.\n",
    "\n",
    "A better concrete analogy would be that \n",
    "\n",
    "    1. you went into a warehouse full of fruit baskets which comes from the same farm. You are allowed to taste exactly one basket. \n",
    "    2. After tasting a basket and comparing likelihood, you conclude that the whole warehouse belongs to Plys' Farm. \n",
    "    3. Now given a random mango from the warehouse you can tell that there is an 80% chance that it will be a sweet mango\n",
    "    \n",
    "The technical details can be abit intimidating. But just keep this main idea in mind things will become a bit easier to understand."
   ]
  },
  {
   "cell_type": "code",
   "execution_count": null,
   "metadata": {
    "collapsed": true
   },
   "outputs": [],
   "source": []
  },
  {
   "cell_type": "code",
   "execution_count": 5,
   "metadata": {
    "collapsed": true
   },
   "outputs": [],
   "source": [
    "np.random.seed(12345)\n",
    "nplus = 1000\n",
    "nminus = 500\n",
    "\n",
    "xps = np.random.randn(nplus) + 2.\n",
    "xms = np.random.randn(nminus)\n",
    "\n",
    "alln = nplus + nminus"
   ]
  },
  {
   "cell_type": "code",
   "execution_count": 6,
   "metadata": {
    "collapsed": false
   },
   "outputs": [
    {
     "data": {
      "text/plain": [
       "<matplotlib.legend.Legend at 0x116684da0>"
      ]
     },
     "execution_count": 6,
     "metadata": {},
     "output_type": "execute_result"
    },
    {
     "data": {
      "image/png": "[encoded data removed]",
      "text/plain": [
       "<Figure size 864x576 with 1 Axes>"
      ]
     },
     "metadata": {
      "needs_background": "light"
     },
     "output_type": "display_data"
    }
   ],
   "source": [
    "plt.figure(figsize=(12,8))\n",
    "bins = np.linspace(-5,5,50)\n",
    "hp, b1, p1 = plt.hist(xps, bins=bins, alpha=0.5, label='+1')\n",
    "hm, b2, p2 = plt.hist(xms, bins=bins, alpha=0.5, label ='-1')\n",
    "plt.legend()"
   ]
  },
  {
   "cell_type": "markdown",
   "metadata": {},
   "source": [
    "1) First plot\n",
    "$P(+1|x)$ vs $x$\n",
    "\n",
    "`hp` and `hm` contains histogram value for class +1 and -1."
   ]
  },
  {
   "cell_type": "code",
   "execution_count": 7,
   "metadata": {
    "collapsed": false
   },
   "outputs": [
    {
     "data": {
      "text/plain": [
       "[<matplotlib.lines.Line2D at 0x116b36d30>]"
      ]
     },
     "execution_count": 7,
     "metadata": {},
     "output_type": "execute_result"
    },
    {
     "data": {
      "image/png": "[encoded data removed]",
      "text/plain": [
       "<Figure size 432x288 with 1 Axes>"
      ]
     },
     "metadata": {
      "needs_background": "light"
     },
     "output_type": "display_data"
    }
   ],
   "source": [
    "#I'm being nice for you\n",
    "midpoints = (bins[1:] + bins[:-1])/2.0\n",
    "prob = [ [m, x1/(x2+x1)] for m, x1, x2 in zip(midpoints, hp, hm) if x1+x2>0 ]\n",
    "xs = [x for x,y in prob]\n",
    "ys = [y for x,y in prob]\n",
    "plt.plot(xs, ys, 'or')"
   ]
  },
  {
   "cell_type": "markdown",
   "metadata": {},
   "source": [
    "2) Should you use linear regression $P(y = +1 | x) = mx + c$ to predict the probability? \n",
    "\n",
    "\n",
    "Why? If you have time try and see what happens."
   ]
  },
  {
   "cell_type": "code",
   "execution_count": null,
   "metadata": {
    "collapsed": true
   },
   "outputs": [],
   "source": [
    "#the range is not close, straight line is go from -inft to infty we  \n",
    "#We want func that bounded 0 and 1\n",
    "#Sigmoid(x) or logistic func "
   ]
  },
  {
   "cell_type": "markdown",
   "metadata": {},
   "source": [
    "## Theory\n",
    "\n",
    "\n",
    "### Logistic Function"
   ]
  },
  {
   "cell_type": "markdown",
   "metadata": {},
   "source": [
    "3) Plot with $s = -5 \\ldots 5$ Then explain why it is preferred over linear function $ms +c$\n",
    "\n",
    "$$\\theta(s) = \\frac{1}{1+e^{-s}}$$"
   ]
  },
  {
   "cell_type": "code",
   "execution_count": 10,
   "metadata": {
    "collapsed": false
   },
   "outputs": [
    {
     "data": {
      "text/plain": [
       "[<matplotlib.lines.Line2D at 0x116d05d68>]"
      ]
     },
     "execution_count": 10,
     "metadata": {},
     "output_type": "execute_result"
    },
    {
     "data": {
      "image/png": "[encoded data removed]",
      "text/plain": [
       "<Figure size 432x288 with 1 Axes>"
      ]
     },
     "metadata": {
      "needs_background": "light"
     },
     "output_type": "display_data"
    }
   ],
   "source": [
    "xs = np.linspace(-5,5,1000)\n",
    "def logistic(s):\n",
    "    return 1/(1+np.exp(-s))\n",
    "ys = [logistic(x) for x in xs]\n",
    "plt.plot(xs,ys)"
   ]
  },
  {
   "cell_type": "markdown",
   "metadata": {},
   "source": [
    "4) Find $\\theta(\\infty)$ and $\\theta(-\\infty)$ and $\\theta(0)$"
   ]
  },
  {
   "cell_type": "markdown",
   "metadata": {
    "collapsed": true
   },
   "source": [
    "$\\theta(\\infty) = 1 \\\\\n",
    "\\theta(-\\infty) = 0\\\\\n",
    "\\theta(0) = 0.5\\\\\n",
    "$"
   ]
  },
  {
   "cell_type": "code",
   "execution_count": 14,
   "metadata": {
    "collapsed": false
   },
   "outputs": [
    {
     "data": {
      "image/png": "[encoded data removed]",
      "text/plain": [
       "<Figure size 432x288 with 1 Axes>"
      ]
     },
     "metadata": {
      "needs_background": "light"
     },
     "output_type": "display_data"
    }
   ],
   "source": [
    "#bound mx+c by sigmoid func \n",
    "def sigmoid_builder(m,c):\n",
    "    def ret(x):\n",
    "        return logistic(m*x+c)\n",
    "    return ret\n",
    "for c in [-1,-2,0,1,2]:\n",
    "    sig = sigmoid_builder(1,c)\n",
    "    xs = np.linspace(-5,5,100)\n",
    "    ys = [sig(x) for x in xs]\n",
    "    plt.plot(xs,ys,label=c)\n",
    "plt.legend()\n",
    "plt.grid()\n",
    "\n",
    "#c shifts the graph, c allow you to fit the data  "
   ]
  },
  {
   "cell_type": "code",
   "execution_count": 18,
   "metadata": {
    "collapsed": false
   },
   "outputs": [
    {
     "data": {
      "image/png": "[encoded data removed]",
      "text/plain": [
       "<Figure size 432x288 with 1 Axes>"
      ]
     },
     "metadata": {
      "needs_background": "light"
     },
     "output_type": "display_data"
    }
   ],
   "source": [
    "for m in [1,2,3,4,5]:\n",
    "    sig = sigmoid_builder(m,0)\n",
    "    xs = np.linspace(-5,5,100)\n",
    "    ys = [sig(x) for x in xs]\n",
    "    plt.plot(xs,ys,label=m)\n",
    "plt.legend()\n",
    "plt.grid()\n",
    "\n",
    "#m changes the slope, at higher m, switch from 0 to 1 quickly \n",
    "#-m flip grapgh another way around "
   ]
  },
  {
   "cell_type": "markdown",
   "metadata": {},
   "source": [
    "5) Show that\n",
    "\n",
    "$$1-\\theta(s) = \\theta(-s)$$"
   ]
  },
  {
   "cell_type": "code",
   "execution_count": null,
   "metadata": {
    "collapsed": true
   },
   "outputs": [],
   "source": []
  },
  {
   "cell_type": "markdown",
   "metadata": {},
   "source": [
    "6) How should we compte $s$ from the features ?"
   ]
  },
  {
   "cell_type": "code",
   "execution_count": null,
   "metadata": {
    "collapsed": true
   },
   "outputs": [],
   "source": []
  },
  {
   "cell_type": "markdown",
   "metadata": {},
   "source": [
    "7) Given that you use hypothesis $$ P_\\vec{w}(1 | \\vec{x}) = \\theta(\\vec{w}\\cdot\\vec{x}) $$\n",
    "and that you only 2 classes (+1 and -1) what is\n",
    "\n",
    "$$ P_\\vec{w}(-1 | \\vec{x})$$"
   ]
  },
  {
   "cell_type": "code",
   "execution_count": null,
   "metadata": {
    "collapsed": true
   },
   "outputs": [],
   "source": []
  },
  {
   "cell_type": "markdown",
   "metadata": {},
   "source": [
    "8) What parameter parametrize your hypothesis?"
   ]
  },
  {
   "cell_type": "code",
   "execution_count": null,
   "metadata": {
    "collapsed": true
   },
   "outputs": [],
   "source": []
  },
  {
   "cell_type": "markdown",
   "metadata": {},
   "source": [
    "9) Use the fact from 5) write what you found in 7 in a simpler form\n",
    "\n",
    "$$\n",
    "P_\\vec{w}(y|\\vec{x}) = \\begin{cases}\n",
    "    \\ldots & y = 1 \\\\\n",
    "    \\ldots & y = -1\n",
    "\\end{cases}\n",
    "$$"
   ]
  },
  {
   "cell_type": "code",
   "execution_count": null,
   "metadata": {
    "collapsed": true
   },
   "outputs": [],
   "source": []
  },
  {
   "cell_type": "markdown",
   "metadata": {},
   "source": [
    "10) Use the fact that $y\\in\\{-1, 1\\}$ and convince yourself that what you wrote above is just\n",
    "\n",
    "$$ P_\\vec{w}\\left(y|\\vec{x} \\right) = \\theta\\left(y \\times \\left( \\vec{w} \\cdot \\vec{x} \\right) \\right)$$"
   ]
  },
  {
   "cell_type": "code",
   "execution_count": 25,
   "metadata": {
    "collapsed": false
   },
   "outputs": [
    {
     "data": {
      "text/plain": [
       "(0.07482883800207003, 0.03673739329445191)"
      ]
     },
     "execution_count": 25,
     "metadata": {},
     "output_type": "execute_result"
    }
   ],
   "source": [
    "w1 = [0,1]\n",
    "w2 = [1,1]\n",
    "xs = np.array([\n",
    "    [1, 0.5],\n",
    "    [1, 0.25],\n",
    "    [1, 0.1],\n",
    "    [1, 0.2]\n",
    "])\n",
    "ys = np.array([1,1,-1,-1])\n",
    "\n",
    "def likelihood(w):\n",
    "    dot = np.dot(xs,w)\n",
    "    z = ys * dot \n",
    "    sig = 1/(1+np.exp(-z))\n",
    "    return np.prod(sig)\n",
    "\n",
    "likelihood(w1), likelihood(w2)"
   ]
  },
  {
   "cell_type": "code",
   "execution_count": 65,
   "metadata": {
    "collapsed": false
   },
   "outputs": [
    {
     "data": {
      "text/plain": [
       "array([-1.28477766,  1.95615292])"
      ]
     },
     "execution_count": 65,
     "metadata": {},
     "output_type": "execute_result"
    }
   ],
   "source": [
    "from scipy.optimize import minimize\n",
    "\n",
    "xps = np.random.randn(nplus) + 2.\n",
    "xms = np.random.randn(nminus)\n",
    "\n",
    "def pad(x):\n",
    "    return np.vstack([np.ones(len(x)),x]).T\n",
    "\n",
    "pxms = pad(xms)\n",
    "pxps = pad(xps)\n",
    "\n",
    "def sigma(z):\n",
    "    return 1/(1+np.exp(-z))\n",
    "\n",
    "def cost(w):\n",
    "    llhp = np.log(sigma(np.dot(pxps,w)))\n",
    "    llhm = np.log(sigma(-np.dot(pxms,w)))\n",
    "    return -(np.sum(llhp) + np.sum(llhm))   # -sum(log sigma(all data point))\n",
    "w = minimize(cost,[0.,0.]).x"
   ]
  },
  {
   "cell_type": "markdown",
   "metadata": {},
   "source": [
    "11) How do we distinguish a good hypothesis from bad hypothesis? (good $\\vec{w}$ from bad $\\vec{w}$)"
   ]
  },
  {
   "cell_type": "code",
   "execution_count": null,
   "metadata": {
    "collapsed": true
   },
   "outputs": [],
   "source": [
    "#the one with the more likelihood is better \n",
    "# we want to find w that maximize it "
   ]
  },
  {
   "cell_type": "markdown",
   "metadata": {},
   "source": [
    "12) What does likelihood represents?"
   ]
  },
  {
   "cell_type": "code",
   "execution_count": null,
   "metadata": {
    "collapsed": true
   },
   "outputs": [],
   "source": []
  },
  {
   "cell_type": "markdown",
   "metadata": {},
   "source": [
    "13) Let us do one concrete example here.  Calculate the likelihood for $\\vec{w}$ given these data point\n",
    "$$\\vec{w}_1 = (1,2,3)$$\n",
    "- A: $y = 1$, $x=[1, -1]$\n",
    "- B: $y = -1$, $x=[-2, 1]$ \n",
    "\n",
    "Don't forget to pad your feature."
   ]
  },
  {
   "cell_type": "code",
   "execution_count": 17,
   "metadata": {
    "collapsed": true
   },
   "outputs": [],
   "source": [
    "def theta(s):\n",
    "    return 1.0/(1.0 + np.exp(-s))"
   ]
  },
  {
   "cell_type": "markdown",
   "metadata": {},
   "source": [
    "14) Is $\\vec{w}_2 = (1,1,1)$ a better hypothesis?"
   ]
  },
  {
   "cell_type": "code",
   "execution_count": null,
   "metadata": {
    "collapsed": true
   },
   "outputs": [],
   "source": []
  },
  {
   "cell_type": "markdown",
   "metadata": {},
   "source": [
    "15) What happen when we take log of the likelihood? Write down log likehood in terms of feature, weight and classes."
   ]
  },
  {
   "cell_type": "code",
   "execution_count": null,
   "metadata": {
    "collapsed": true
   },
   "outputs": [],
   "source": []
  },
  {
   "cell_type": "markdown",
   "metadata": {},
   "source": [
    "16) Does greater log likelihood indicate a better hypothesis? Or is it the other way around."
   ]
  },
  {
   "cell_type": "code",
   "execution_count": null,
   "metadata": {
    "collapsed": true
   },
   "outputs": [],
   "source": []
  },
  {
   "cell_type": "markdown",
   "metadata": {},
   "source": [
    "17) Write down our cost function. Do we want to maximize or minimize the cost function?"
   ]
  },
  {
   "cell_type": "code",
   "execution_count": null,
   "metadata": {
    "collapsed": true
   },
   "outputs": [],
   "source": []
  },
  {
   "cell_type": "markdown",
   "metadata": {},
   "source": [
    "18) Turn what you found in 17 to minization problem."
   ]
  },
  {
   "cell_type": "code",
   "execution_count": null,
   "metadata": {
    "collapsed": true
   },
   "outputs": [],
   "source": []
  },
  {
   "cell_type": "markdown",
   "metadata": {},
   "source": [
    "19) Minimize it and try to debug it. You will most likely run into a bunch of numerical problems.\n",
    "\n",
    "Hint: computer doesn't like '$e^x$ when $x$ is large. You may find numpy.clip useful\n",
    "\n",
    "Hint: `log` function is typically inaccurate when the argument is near 1. Use `log1p` when you want to calculate `log(1+x)` for greater accuracy."
   ]
  },
  {
   "cell_type": "code",
   "execution_count": null,
   "metadata": {
    "collapsed": true
   },
   "outputs": [],
   "source": []
  },
  {
   "cell_type": "markdown",
   "metadata": {},
   "source": [
    "20) Once you are done. Compare you hypothesis with the probability getting from data."
   ]
  },
  {
   "cell_type": "code",
   "execution_count": null,
   "metadata": {
    "collapsed": true
   },
   "outputs": [],
   "source": []
  },
  {
   "cell_type": "markdown",
   "metadata": {},
   "source": [
    "21) For a new data point $x = 0.1$, what is the probability that it belongs to class $y=1$"
   ]
  },
  {
   "cell_type": "code",
   "execution_count": 70,
   "metadata": {
    "collapsed": false
   },
   "outputs": [
    {
     "data": {
      "text/plain": [
       "0.09424644748419775"
      ]
     },
     "execution_count": 70,
     "metadata": {},
     "output_type": "execute_result"
    }
   ],
   "source": [
    "w\n",
    "# P(y=1| x = -0.5) =???\n",
    "sigma(np.dot([1,-0.5],w))"
   ]
  },
  {
   "cell_type": "code",
   "execution_count": 72,
   "metadata": {
    "collapsed": false
   },
   "outputs": [
    {
     "data": {
      "text/plain": [
       "[<matplotlib.lines.Line2D at 0x11aa0acc0>]"
      ]
     },
     "execution_count": 72,
     "metadata": {},
     "output_type": "execute_result"
    },
    {
     "data": {
      "image/png": "[encoded data removed]",
      "text/plain": [
       "<Figure size 432x288 with 1 Axes>"
      ]
     },
     "metadata": {
      "needs_background": "light"
     },
     "output_type": "display_data"
    }
   ],
   "source": [
    "#I'm being nice for you\n",
    "midpoints = (bins[1:] + bins[:-1])/2.0\n",
    "prob = [ [m, x1/(x2+x1)] for m, x1, x2 in zip(midpoints, hp, hm) if x1+x2>0 ]\n",
    "xs = [x for x,y in prob]\n",
    "ys = [y for x,y in prob]\n",
    "plt.plot(xs, ys, 'or')\n",
    "\n",
    "guess = [sigma(np.dot([1,x],w)) for x in xs]\n",
    "plt.plot(xs, guess, '-b')"
   ]
  },
  {
   "cell_type": "markdown",
   "metadata": {},
   "source": [
    "## Logistic in Higher Dimension"
   ]
  },
  {
   "cell_type": "code",
   "execution_count": 125,
   "metadata": {
    "collapsed": false
   },
   "outputs": [
    {
     "data": {
      "image/png": "[encoded data removed]",
      "text/plain": [
       "<Figure size 432x288 with 1 Axes>"
      ]
     },
     "metadata": {
      "needs_background": "light"
     },
     "output_type": "display_data"
    }
   ],
   "source": [
    "n = 100\n",
    "np.random.seed(9999)\n",
    "x1s = np.random.random(n)\n",
    "x2s = np.random.random(n)\n",
    "plt.plot(x1s, x2s, '.')\n",
    "def sigm(x):\n",
    "    return 1/(1+math.exp(-x))\n",
    "ys = np.array([ np.random.rand() > sigm(5*x1 + 5*x2 - 5) for x1, x2 in zip(x1s, x2s)], float)\n",
    "ys[ys==1] = 1\n",
    "ys[ys==0] = -1\n",
    "\n",
    "plt.plot(x1s[ys>0], x2s[ys>0], '.r')\n",
    "plt.plot(x1s[ys<0], x2s[ys<0], '.b')\n",
    "\n",
    "xs = np.vstack((x1s.T, x2s.T, ys.T)) #this is how you stack them up vertically\n",
    "pad_xs = np.vstack((np.ones(n), xs))\n",
    "df = pd.DataFrame(data=pad_xs.T, columns=('x0', 'x1', 'x2', 'xclass'))"
   ]
  },
  {
   "cell_type": "code",
   "execution_count": 167,
   "metadata": {
    "collapsed": false
   },
   "outputs": [],
   "source": [
    "# display(df)"
   ]
  },
  {
   "cell_type": "markdown",
   "metadata": {},
   "source": [
    "1) Perform a logistic regression on the given data. What is your $s$ now?"
   ]
  },
  {
   "cell_type": "code",
   "execution_count": 156,
   "metadata": {
    "collapsed": false
   },
   "outputs": [],
   "source": [
    "from scipy.optimize import minimize\n",
    "def sigma(z):\n",
    "    return 1/(1+np.exp(-z))\n",
    "\n",
    "class logistic:\n",
    "    def __init__(self, xs, ys):\n",
    "        self.w = self.train(xs,ys)\n",
    "        \n",
    "    def train(self, xs, ys):\n",
    "        def cost(w):\n",
    "            dot = np.dot(xs,w)\n",
    "            z = ys * dot\n",
    "            ll = np.log(sigma(z))\n",
    "            return -(np.sum(ll))   # -sum(log sigma(all data point))\n",
    "        w = minimize(cost,[0.]*xs.shape[1]).x\n",
    "        return w \n",
    "        \n",
    "    def classify(self, x): #xs is not pad yet\n",
    "        return sigma(np.dot(x, self.w))"
   ]
  },
  {
   "cell_type": "code",
   "execution_count": 157,
   "metadata": {
    "collapsed": false
   },
   "outputs": [
    {
     "name": "stdout",
     "output_type": "stream",
     "text": [
      "[ 3.94670603 -4.52535256 -3.4043365 ]\n",
      "0.75\n"
     ]
    }
   ],
   "source": [
    "xs = df[df.columns[:-1]].values\n",
    "ys = df['xclass'].values\n",
    "log = logistic(xs,ys)\n",
    "print(log.w)\n",
    "res = log.classify(xs)\n",
    "res[res>0.5] = 1\n",
    "res[res < 0.5] = -1\n",
    "print(len(ys[res== ys])/len(ys))"
   ]
  },
  {
   "cell_type": "markdown",
   "metadata": {},
   "source": [
    "2) What is the equation for the line that represent $P(y=1|\\vec{x})=0.5$. Recall that sigmoid(0)=0.5. Draw it along with the data."
   ]
  },
  {
   "cell_type": "code",
   "execution_count": null,
   "metadata": {
    "collapsed": true
   },
   "outputs": [],
   "source": []
  },
  {
   "cell_type": "markdown",
   "metadata": {},
   "source": [
    "3) Now try 0.3 and 0.7 line."
   ]
  },
  {
   "cell_type": "code",
   "execution_count": 166,
   "metadata": {
    "collapsed": false
   },
   "outputs": [
    {
     "data": {
      "image/png": "[encoded data removed]",
      "text/plain": [
       "<Figure size 432x288 with 1 Axes>"
      ]
     },
     "metadata": {
      "needs_background": "light"
     },
     "output_type": "display_data"
    }
   ],
   "source": [
    "plt.plot(x1s[ys>0], x2s[ys>0], '.r')\n",
    "plt.plot(x1s[ys<0], x2s[ys<0], '.b')\n",
    "log = logistic(xs,ys).w\n",
    "def invert_theta(c):\n",
    "    return -np.log((1/c)-1)\n",
    "\n",
    "def pplot(prob):\n",
    "    it = invert_theta(prob)\n",
    "    x1ss = np.linspace(0,1,100)\n",
    "    m = -log[1]/log[2]\n",
    "    c = (it-log[0])/log[2]\n",
    "    x2ss= m*x1ss+c\n",
    "    plt.plot(x1ss, x2ss, 'k')\n",
    "    \n",
    "pplot(0.5)\n",
    "pplot(0.3)\n",
    "pplot(0.7)"
   ]
  },
  {
   "cell_type": "markdown",
   "metadata": {},
   "source": [
    "# ROC Curve (receiver operating characteristic)"
   ]
  },
  {
   "cell_type": "markdown",
   "metadata": {},
   "source": [
    "Let us consider a fingerprint application to authenticate people through super secret stuff. So the class +1 means authenticate and -1 means denied entry."
   ]
  },
  {
   "cell_type": "markdown",
   "metadata": {},
   "source": [
    "1) What is True Positive?"
   ]
  },
  {
   "cell_type": "code",
   "execution_count": null,
   "metadata": {
    "collapsed": true
   },
   "outputs": [],
   "source": []
  },
  {
   "cell_type": "markdown",
   "metadata": {},
   "source": [
    "2) What is False Positive?"
   ]
  },
  {
   "cell_type": "code",
   "execution_count": null,
   "metadata": {
    "collapsed": true
   },
   "outputs": [],
   "source": []
  },
  {
   "cell_type": "markdown",
   "metadata": {},
   "source": [
    "3) What is False Positive?"
   ]
  },
  {
   "cell_type": "code",
   "execution_count": null,
   "metadata": {
    "collapsed": true
   },
   "outputs": [],
   "source": []
  },
  {
   "cell_type": "markdown",
   "metadata": {},
   "source": [
    "4) What is False Negative?"
   ]
  },
  {
   "cell_type": "code",
   "execution_count": null,
   "metadata": {
    "collapsed": true
   },
   "outputs": [],
   "source": []
  },
  {
   "cell_type": "markdown",
   "metadata": {},
   "source": [
    "5) Which of the above number you want to be high and which of the above number you want to be low?"
   ]
  },
  {
   "cell_type": "code",
   "execution_count": null,
   "metadata": {
    "collapsed": true
   },
   "outputs": [],
   "source": []
  },
  {
   "cell_type": "markdown",
   "metadata": {},
   "source": [
    "6) Where would you place a cut on classifier output to make True Positive rate really high? What 's wrong with that?"
   ]
  },
  {
   "cell_type": "code",
   "execution_count": null,
   "metadata": {
    "collapsed": true
   },
   "outputs": [],
   "source": []
  },
  {
   "cell_type": "markdown",
   "metadata": {},
   "source": [
    "7) Where would you place a cut on classifier output to make True Negative rate really high? What 's wrong with that?"
   ]
  },
  {
   "cell_type": "code",
   "execution_count": null,
   "metadata": {
    "collapsed": true
   },
   "outputs": [],
   "source": []
  },
  {
   "cell_type": "markdown",
   "metadata": {},
   "source": [
    "8) If we place a cut at 0.3. What are the numbers for \"True positive sample\", \"True negative sample\", \"False postive samples\", \"False negative samples\"\n",
    "\n",
    "Write a function to do that we need it later."
   ]
  },
  {
   "cell_type": "code",
   "execution_count": null,
   "metadata": {
    "collapsed": true
   },
   "outputs": [],
   "source": []
  },
  {
   "cell_type": "markdown",
   "metadata": {},
   "source": [
    "9) If we place a cut at 0.3. What is \"True positive **rate**\", \"True negative **rate**\", \"False postive **rate**\", \"False negative **rate**\" \n",
    "\n",
    "Write a function to do that. We will need it later."
   ]
  },
  {
   "cell_type": "code",
   "execution_count": null,
   "metadata": {
    "collapsed": true
   },
   "outputs": [],
   "source": []
  },
  {
   "cell_type": "markdown",
   "metadata": {},
   "source": [
    "10) If we place a cut at 0.7. Which of the rate would be higher and which of the rate would be lower? (Reason first, then run the code and see if it matches)"
   ]
  },
  {
   "cell_type": "code",
   "execution_count": null,
   "metadata": {
    "collapsed": true
   },
   "outputs": [],
   "source": []
  },
  {
   "cell_type": "markdown",
   "metadata": {},
   "source": [
    "11) Vary the cut and plot True positive rate on y axis and false positive rate on x axis. This curve is called ROC curve.\n",
    "if you classifier is good which corner it should go?"
   ]
  },
  {
   "cell_type": "code",
   "execution_count": null,
   "metadata": {
    "collapsed": true
   },
   "outputs": [],
   "source": []
  },
  {
   "cell_type": "markdown",
   "metadata": {},
   "source": [
    "12) Consider these two fingerprint application and tell relatively where we should place a cut(which one with higher cut?)\n",
    "\n",
    "A) FBI Door fingerprint.\n",
    "\n",
    "B) Supermarket membership where use scan finger to verify the membership."
   ]
  },
  {
   "cell_type": "code",
   "execution_count": null,
   "metadata": {
    "collapsed": true
   },
   "outputs": [],
   "source": []
  }
 ],
 "metadata": {
  "anaconda-cloud": {},
  "kernelspec": {
   "display_name": "Python 3",
   "language": "python",
   "name": "python3"
  },
  "language_info": {
   "codemirror_mode": {
    "name": "ipython",
    "version": 3
   },
   "file_extension": ".py",
   "mimetype": "text/x-python",
   "name": "python",
   "nbconvert_exporter": "python",
   "pygments_lexer": "ipython3",
   "version": "3.7.0"
  },
  "toc": {
   "colors": {
    "hover_highlight": "#DAA520",
    "running_highlight": "#FF0000",
    "selected_highlight": "#FFD700"
   },
   "moveMenuLeft": true,
   "nav_menu": {
    "height": "66px",
    "width": "252px"
   },
   "navigate_menu": true,
   "number_sections": false,
   "sideBar": true,
   "threshold": 4,
   "toc_cell": false,
   "toc_section_display": "block",
   "toc_window_display": false
  }
 },
 "nbformat": 4,
 "nbformat_minor": 1
}
