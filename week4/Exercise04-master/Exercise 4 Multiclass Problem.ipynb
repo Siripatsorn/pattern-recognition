{
 "cells": [
  {
   "cell_type": "markdown",
   "metadata": {},
   "source": [
    "\n",
    "We want to classify yoyo in to 4 flavors using features such as package color, sweetness level.\n",
    "\n",
    "Supposed we want to use 1 VS All algorithm. To do this.\n"
   ]
  },
  {
   "cell_type": "markdown",
   "metadata": {},
   "source": [
    "1) How many classifiers we need to train?"
   ]
  },
  {
   "cell_type": "code",
   "execution_count": null,
   "metadata": {
    "collapsed": true
   },
   "outputs": [],
   "source": [
    "#given n class we need log2(n) class "
   ]
  },
  {
   "cell_type": "markdown",
   "metadata": {},
   "source": [
    "2) How do we train each classifier? (Which one to call + and which one to call -)"
   ]
  },
  {
   "cell_type": "code",
   "execution_count": null,
   "metadata": {
    "collapsed": true
   },
   "outputs": [],
   "source": []
  },
  {
   "cell_type": "markdown",
   "metadata": {},
   "source": [
    "3) Write a table for perfect answer for each class."
   ]
  },
  {
   "cell_type": "code",
   "execution_count": null,
   "metadata": {
    "collapsed": true
   },
   "outputs": [],
   "source": []
  },
  {
   "cell_type": "markdown",
   "metadata": {},
   "source": [
    "4) If the answer from all the classifier for a sample looks like \n",
    "$$(0.1,0.2,0.3,0.6)$$\n",
    "What class should it be?"
   ]
  },
  {
   "cell_type": "code",
   "execution_count": null,
   "metadata": {
    "collapsed": true
   },
   "outputs": [],
   "source": []
  },
  {
   "cell_type": "markdown",
   "metadata": {},
   "source": [
    "what about\n",
    "$$(0.6,0.6,0.7,0.7)$$"
   ]
  },
  {
   "cell_type": "code",
   "execution_count": null,
   "metadata": {
    "collapsed": true
   },
   "outputs": [],
   "source": []
  },
  {
   "cell_type": "markdown",
   "metadata": {},
   "source": [
    "5) How many answers we can get wrong before the classifier start getting confused?"
   ]
  },
  {
   "cell_type": "code",
   "execution_count": null,
   "metadata": {
    "collapsed": true
   },
   "outputs": [],
   "source": []
  },
  {
   "cell_type": "markdown",
   "metadata": {},
   "source": [
    "6) How can we do better against wrong answer?"
   ]
  },
  {
   "cell_type": "code",
   "execution_count": null,
   "metadata": {
    "collapsed": true
   },
   "outputs": [],
   "source": []
  },
  {
   "cell_type": "markdown",
   "metadata": {},
   "source": [
    "7) Write down the exhaustive matrix for 4 classes."
   ]
  },
  {
   "cell_type": "code",
   "execution_count": null,
   "metadata": {
    "collapsed": true
   },
   "outputs": [],
   "source": []
  },
  {
   "cell_type": "markdown",
   "metadata": {},
   "source": [
    "# Real Exercise"
   ]
  },
  {
   "cell_type": "markdown",
   "metadata": {},
   "source": [
    "Read glass.data and build a classifier to classify glass.\n",
    "\n",
    "What is this glass?\n",
    "\n",
    "$$1.5,14.8,0.00,2.00,73.00,0.00,8.00,1.7,0.00$$"
   ]
  },
  {
   "cell_type": "code",
   "execution_count": 161,
   "metadata": {
    "collapsed": true
   },
   "outputs": [],
   "source": [
    "import pandas as pd \n",
    "import numpy as np\n",
    "from matplotlib import pyplot as plt \n",
    "from scipy.optimize import minimize"
   ]
  },
  {
   "cell_type": "code",
   "execution_count": 162,
   "metadata": {
    "collapsed": false
   },
   "outputs": [
    {
     "name": "stderr",
     "output_type": "stream",
     "text": [
      "/Library/Frameworks/Python.framework/Versions/3.7/lib/python3.7/site-packages/ipykernel_launcher.py:2: SettingWithCopyWarning: \n",
      "A value is trying to be set on a copy of a slice from a DataFrame\n",
      "\n",
      "See the caveats in the documentation: http://pandas.pydata.org/pandas-docs/stable/indexing.html#indexing-view-versus-copy\n",
      "  \n"
     ]
    }
   ],
   "source": [
    "df = pd.read_csv('glass.data.txt', header=None)\n",
    "df[10][df[10] > 4] = df[10][df[10] > 4] -1 #shift > 4 back by 1 \n",
    "df[10] = df[10] - 1 #make it start from 1 \n",
    "df[0] = 1 "
   ]
  },
  {
   "cell_type": "code",
   "execution_count": 87,
   "metadata": {
    "collapsed": false
   },
   "outputs": [],
   "source": [
    "code_table = np.array([\n",
    "        [1, 0, 0, 0, 0, 0],\n",
    "        [0, 1, 0, 0, 0, 0],\n",
    "        [0, 0, 1, 0, 0, 0],\n",
    "        [0, 0, 0, 1, 0, 0],\n",
    "        [0, 0, 0, 0, 1, 0],\n",
    "        [0, 0, 0, 0, 0, 1]\n",
    "    ]) #row -> class, column -> classifier "
   ]
  },
  {
   "cell_type": "code",
   "execution_count": 95,
   "metadata": {
    "collapsed": true
   },
   "outputs": [],
   "source": [
    "class Logistic:\n",
    "    def __init__(self, xs, ys):\n",
    "        self.xs = xs\n",
    "        self.ys = ys   #ys must be 1 and -1 \n",
    "        self.w = self.train()\n",
    "        \n",
    "    def theta(self, s):\n",
    "            return 1/(1+np.exp(-np.clip(s,-50,50)))\n",
    "    \n",
    "    def train(self):\n",
    "        def cost(w):\n",
    "            return -np.sum(np.log(self.theta(self.ys*np.dot(self.xs,w))))\n",
    "        res = minimize(cost, [0]*self.xs.shape[1])\n",
    "        return res.x\n",
    "    \n",
    "    def classify(self,xs):\n",
    "        return self.theta(np.dot(xs, self.w))\n",
    "    "
   ]
  },
  {
   "cell_type": "code",
   "execution_count": 189,
   "metadata": {
    "collapsed": false
   },
   "outputs": [],
   "source": [
    "class MulticlassClassifier:\n",
    "    def __init__(self, xs, ys, codetable): #ys = 0,1,2,3,4,...\n",
    "        self.xs = xs \n",
    "        self.ys = ys\n",
    "        self.codetable = codetable\n",
    "        self.classifiers = self.train()   \n",
    "\n",
    "    def train(self):\n",
    "        n = self.codetable.shape[1]\n",
    "        classifiers = [self.train_ith_classifier(i) for i in range(n)]\n",
    "        return classifiers\n",
    "    \n",
    "    def train_ith_classifier(self,i):\n",
    "        new_ys = []\n",
    "        for y in self.ys:\n",
    "            new_ys.append(self.codetable[y][i]*2-1)\n",
    "        log = Logistic(self.xs, new_ys)\n",
    "        return log \n",
    "        \n",
    "    def classify(self,xs): # x -> 0,1,2,3,4\n",
    "        prob = np.array([cl.classify(xs) for cl in self.classifiers])\n",
    "        print(prob)\n",
    "        distance = [np.linalg.norm(prob-cl)**2 for cl in self.codetable]\n",
    "        print(distance)\n",
    "        return np.argmin(distance)\n",
    "    "
   ]
  },
  {
   "cell_type": "code",
   "execution_count": 190,
   "metadata": {
    "collapsed": false
   },
   "outputs": [],
   "source": [
    "xs = df[df.columns[:-1]].values\n",
    "ys = df[10]\n",
    "multi = MulticlassClassifier(xs, ys, code_table)"
   ]
  },
  {
   "cell_type": "code",
   "execution_count": 191,
   "metadata": {
    "collapsed": false
   },
   "outputs": [
    {
     "name": "stdout",
     "output_type": "stream",
     "text": [
      "[1.41180144e-05 3.16827543e-02 9.99999735e-01 7.48243518e-01\n",
      " 1.92874985e-22 4.60655297e-19]\n",
      "[2.560843392537356, 2.49750611988734, 0.5608721593895462, 1.0643845925146325, 2.5608716285662294, 2.5608716285662294]\n"
     ]
    },
    {
     "data": {
      "text/plain": [
       "2"
      ]
     },
     "execution_count": 191,
     "metadata": {},
     "output_type": "execute_result"
    }
   ],
   "source": [
    "multi.classify([1.0,1.5,14.8,0.00,2.00,73.00,0.00,8.00,1.7,0.00])"
   ]
  },
  {
   "cell_type": "code",
   "execution_count": 215,
   "metadata": {
    "collapsed": false
   },
   "outputs": [
    {
     "name": "stdout",
     "output_type": "stream",
     "text": [
      "1 1\n",
      "2 2\n",
      "3 4\n",
      "[[0. 0. 0. 0. 0. 0. 0.]\n",
      " [0. 0. 0. 0. 1. 1. 1.]\n",
      " [0. 0. 1. 1. 0. 0. 1.]\n",
      " [0. 1. 0. 1. 0. 1. 0.]]\n"
     ]
    }
   ],
   "source": [
    "from pprint import pprint\n",
    "def exhaustive(n):\n",
    "    ncol = 2**(n-1)\n",
    "    table = np.zeros((n, ncol))\n",
    "    for i in range(n):\n",
    "        nzero = int(ncol/2**(i))\n",
    "        if i != 0:\n",
    "            print(i, int(ncol/nzero/2))\n",
    "            row = ([0]*nzero + [1]*nzero)*int(ncol/nzero/2)   #basically, it's 2**i-1\n",
    "        else:\n",
    "            row = ([0]*nzero)\n",
    "        table[i] = row\n",
    "    return table[:,:-1]\n",
    "        \n",
    "        \n",
    "print(exhaustive(4))"
   ]
  },
  {
   "cell_type": "code",
   "execution_count": null,
   "metadata": {
    "collapsed": true
   },
   "outputs": [],
   "source": []
  }
 ],
 "metadata": {
  "kernelspec": {
   "display_name": "Python 3",
   "language": "python",
   "name": "python3"
  },
  "language_info": {
   "codemirror_mode": {
    "name": "ipython",
    "version": 3
   },
   "file_extension": ".py",
   "mimetype": "text/x-python",
   "name": "python",
   "nbconvert_exporter": "python",
   "pygments_lexer": "ipython3",
   "version": "3.7.0"
  }
 },
 "nbformat": 4,
 "nbformat_minor": 1
}
