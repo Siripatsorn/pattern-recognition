{
 "cells": [
  {
   "cell_type": "markdown",
   "metadata": {},
   "source": [
    "# Problem 1. Mushroom Weight and Height\n",
    "\n",
    "In the class we build a naive bayes classifier which classify whether a mushroom is poisonous or edible. In the class, all the feature are of categorical type; it has a discrete number of outcome as opposed to real number.\n",
    "\n",
    "In this problem we want to explore two ways to deal with real number features for Naive Bayes classifier."
   ]
  },
  {
   "cell_type": "markdown",
   "metadata": {},
   "source": [
    "## The Data\n",
    "The data given to you is very similar to mushroom data. It has three features: cap-color(with the same dictionary we did in class), mushroom-weight(made up by me), mushroom-height(also made up by me).\n",
    "\n",
    "The data is given in\n",
    "`mushrooms_homework_test.csv`\n",
    "and\n",
    "`mushrooms_homework_train.csv`"
   ]
  },
  {
   "cell_type": "markdown",
   "metadata": {},
   "source": [
    "## Task 1.1) Simplest way. Just bin it.\n",
    "\n",
    "The simplest way for dealing with continuous value feature is to discretize it. The simplest way to discretize is just to bin it. For example if your data looks like\n",
    "\n",
    "`data = (0.9, 1.1, 1.2, 2.1, 2.2, 4.2, 5.3, 5.1)`\n",
    "\n",
    "We count bin it with bin edges of \n",
    "\n",
    "`bins = (1, 1.5, 2, 2.5, 3, 3.5, 4, 4.5, 5)`\n",
    "\n",
    "the bin number of a data point $x$ is the index $i$ where `bins[i-1] < x < bins[i]`. If $x$ is less than the minimum of bin edge then the bin number is 0. If $x$ is more than the maximum of bin edge then it's `len(bins)`.\n",
    "\n",
    "Ex the data points above would be turned into\n",
    "`binno = (0, 1, 1, 3, 3, 7, 8, 8)`\n",
    "\n",
    "Once we discretize the value we can just use Bayes Classifier we did in class.\n",
    "\n",
    "**Your task is to build a naive bayes classifier with binned height and binned weight. Pick appropriate bin edges somehow.\n",
    "Then test your algorithm on the test data set. Report how many you got right and wrong in test data**\n"
   ]
  },
  {
   "cell_type": "code",
   "execution_count": 1,
   "metadata": {
    "collapsed": true
   },
   "outputs": [],
   "source": [
    "%matplotlib inline\n",
    "from matplotlib import pyplot as plt\n",
    "import numpy as np\n",
    "import pandas as pd\n",
    "import keyword\n",
    "from IPython.display import set_matplotlib_formats\n",
    "from pprint import pprint\n",
    "import patternrekt as prekt\n",
    "set_matplotlib_formats('retina')\n",
    "plt.style.use('seaborn-notebook')"
   ]
  },
  {
   "cell_type": "code",
   "execution_count": 2,
   "metadata": {
    "collapsed": false
   },
   "outputs": [
    {
     "name": "stdout",
     "output_type": "stream",
     "text": [
      "[0, 1, 1, 3, 3, 7, 9, 9]\n"
     ]
    }
   ],
   "source": [
    "data = [0.9, 1.1, 1.2, 2.1, 2.2, 4.2, 5.3, 5.1]\n",
    "bins = [1, 1.5, 2, 2.5, 3, 3.5, 4, 4.5, 5]\n",
    "def discretize_data(data, bins):\n",
    "    binno = []\n",
    "    for x in data:\n",
    "        if x <= min(bins):\n",
    "            binno.append(0)\n",
    "        elif x >= max(bins):\n",
    "            binno.append(len(bins))\n",
    "        else:\n",
    "            for i in range(len(bins)):\n",
    "                if bins[i-1] < x and x < bins[i]:\n",
    "                    binno.append(i)\n",
    "    return binno \n",
    "print(discretize_data(data, bins))"
   ]
  },
  {
   "cell_type": "code",
   "execution_count": 3,
   "metadata": {
    "collapsed": false
   },
   "outputs": [],
   "source": [
    "#Read data from mushrooms_homework_train.csv\n",
    "df = pd.read_csv('data/mushrooms_homework_train.csv')\n",
    "# df.columns"
   ]
  },
  {
   "cell_type": "code",
   "execution_count": 4,
   "metadata": {
    "collapsed": false
   },
   "outputs": [
    {
     "data": {
      "text/html": [
       "<div>\n",
       "<style scoped>\n",
       "    .dataframe tbody tr th:only-of-type {\n",
       "        vertical-align: middle;\n",
       "    }\n",
       "\n",
       "    .dataframe tbody tr th {\n",
       "        vertical-align: top;\n",
       "    }\n",
       "\n",
       "    .dataframe thead th {\n",
       "        text-align: right;\n",
       "    }\n",
       "</style>\n",
       "<table border=\"1\" class=\"dataframe\">\n",
       "  <thead>\n",
       "    <tr style=\"text-align: right;\">\n",
       "      <th></th>\n",
       "      <th>weight</th>\n",
       "      <th>height</th>\n",
       "    </tr>\n",
       "  </thead>\n",
       "  <tbody>\n",
       "    <tr>\n",
       "      <th>count</th>\n",
       "      <td>6507.000000</td>\n",
       "      <td>6507.000000</td>\n",
       "    </tr>\n",
       "    <tr>\n",
       "      <th>mean</th>\n",
       "      <td>3.774465</td>\n",
       "      <td>5.510702</td>\n",
       "    </tr>\n",
       "    <tr>\n",
       "      <th>std</th>\n",
       "      <td>1.280863</td>\n",
       "      <td>1.756133</td>\n",
       "    </tr>\n",
       "    <tr>\n",
       "      <th>min</th>\n",
       "      <td>1.000885</td>\n",
       "      <td>2.001143</td>\n",
       "    </tr>\n",
       "    <tr>\n",
       "      <th>25%</th>\n",
       "      <td>2.869634</td>\n",
       "      <td>4.235949</td>\n",
       "    </tr>\n",
       "    <tr>\n",
       "      <th>50%</th>\n",
       "      <td>3.691409</td>\n",
       "      <td>5.400473</td>\n",
       "    </tr>\n",
       "    <tr>\n",
       "      <th>75%</th>\n",
       "      <td>4.599898</td>\n",
       "      <td>6.646482</td>\n",
       "    </tr>\n",
       "    <tr>\n",
       "      <th>max</th>\n",
       "      <td>8.427455</td>\n",
       "      <td>14.727778</td>\n",
       "    </tr>\n",
       "  </tbody>\n",
       "</table>\n",
       "</div>"
      ],
      "text/plain": [
       "            weight       height\n",
       "count  6507.000000  6507.000000\n",
       "mean      3.774465     5.510702\n",
       "std       1.280863     1.756133\n",
       "min       1.000885     2.001143\n",
       "25%       2.869634     4.235949\n",
       "50%       3.691409     5.400473\n",
       "75%       4.599898     6.646482\n",
       "max       8.427455    14.727778"
      ]
     },
     "execution_count": 4,
     "metadata": {},
     "output_type": "execute_result"
    }
   ],
   "source": [
    "df.describe()"
   ]
  },
  {
   "cell_type": "code",
   "execution_count": 5,
   "metadata": {
    "collapsed": false
   },
   "outputs": [
    {
     "data": {
      "image/png": "[encoded data removed]",
      "text/plain": [
       "<Figure size 432x288 with 1 Axes>"
      ]
     },
     "metadata": {
      "image/png": {
       "height": 253,
       "width": 387
      },
      "needs_background": "light"
     },
     "output_type": "display_data"
    }
   ],
   "source": [
    "plt.hist(df.weight)\n",
    "plt.show()"
   ]
  },
  {
   "cell_type": "code",
   "execution_count": 6,
   "metadata": {
    "collapsed": false
   },
   "outputs": [
    {
     "data": {
      "image/png": "[encoded data removed]",
      "text/plain": [
       "<Figure size 432x288 with 1 Axes>"
      ]
     },
     "metadata": {
      "image/png": {
       "height": 253,
       "width": 387
      },
      "needs_background": "light"
     },
     "output_type": "display_data"
    }
   ],
   "source": [
    "plt.hist(df.height, bins=10)\n",
    "plt.show()"
   ]
  },
  {
   "cell_type": "code",
   "execution_count": 187,
   "metadata": {
    "collapsed": false
   },
   "outputs": [],
   "source": [
    "h_bins = np.linspace(1,12,20)\n",
    "discretized_weight = discretize_data(df.weight, h_bins)\n",
    "discretized_height = discretize_data(df.height, h_bins)"
   ]
  },
  {
   "cell_type": "code",
   "execution_count": 188,
   "metadata": {
    "collapsed": false
   },
   "outputs": [
    {
     "data": {
      "text/plain": [
       "[(8, {'total': 855, 'p': 503, 'e': 352}),\n",
       " (7, {'total': 815, 'p': 503, 'e': 312}),\n",
       " (9, {'total': 795, 'p': 388, 'e': 407}),\n",
       " (6, {'total': 685, 'p': 433, 'e': 252}),\n",
       " (10, {'total': 670, 'p': 267, 'e': 403}),\n",
       " (5, {'total': 541, 'p': 329, 'e': 212}),\n",
       " (11, {'total': 524, 'p': 194, 'e': 330}),\n",
       " (12, {'total': 387, 'p': 110, 'e': 277}),\n",
       " (4, {'total': 353, 'p': 202, 'e': 151}),\n",
       " (3, {'total': 266, 'p': 156, 'e': 110}),\n",
       " (13, {'total': 222, 'p': 31, 'e': 191}),\n",
       " (14, {'total': 127, 'p': 19, 'e': 108}),\n",
       " (15, {'total': 101, 'p': 6, 'e': 95}),\n",
       " (16, {'total': 61, 'p': 4, 'e': 57}),\n",
       " (2, {'total': 57, 'p': 34, 'e': 23}),\n",
       " (17, {'total': 21, 'p': 1, 'e': 20}),\n",
       " (18, {'total': 18, 'p': 0, 'e': 18}),\n",
       " (19, {'total': 7, 'p': 0, 'e': 7}),\n",
       " (20, {'total': 2, 'p': 0, 'e': 2})]"
      ]
     },
     "execution_count": 188,
     "metadata": {},
     "output_type": "execute_result"
    },
    {
     "data": {
      "image/png": "[encoded data removed]",
      "text/plain": [
       "<Figure size 1440x432 with 1 Axes>"
      ]
     },
     "metadata": {
      "image/png": {
       "height": 376,
       "width": 1162
      },
      "needs_background": "light"
     },
     "output_type": "display_data"
    },
    {
     "data": {
      "image/png": "[encoded data removed]",
      "text/plain": [
       "<Figure size 1440x432 with 1 Axes>"
      ]
     },
     "metadata": {
      "image/png": {
       "height": 376,
       "width": 1163
      },
      "needs_background": "light"
     },
     "output_type": "display_data"
    }
   ],
   "source": [
    "d = {'xclass': df.xclass,'cap_color': df.cap_color, 'discretized_weight': discretized_weight, 'discretized_height': discretized_height}\n",
    "pf = pd.DataFrame(data=d)\n",
    "# for col in pf.columns:\n",
    "#        prekt.mushroom_plot( pf[col], df.xclass, legend_map={'p': 'Poisonous', 'e': 'Edible'})\n",
    "prekt.mushroom_plot( pf.discretized_weight, df.xclass, legend_map={'p': 'Poisonous', 'e': 'Edible'})\n",
    "prekt.mushroom_plot( pf.discretized_height, df.xclass, legend_map={'p': 'Poisonous', 'e': 'Edible'})"
   ]
  },
  {
   "cell_type": "code",
   "execution_count": 189,
   "metadata": {
    "collapsed": false
   },
   "outputs": [],
   "source": [
    "class NaiveBayes:\n",
    "    def __init__(self, df, class_col):\n",
    "        self.df = df\n",
    "        self.class_col = class_col\n",
    "        self.cache= {}\n",
    "        for clazz in df[class_col].unique():\n",
    "            for feature in df.columns:\n",
    "                for val in df[feature].unique():\n",
    "                    key = (feature, val, clazz)\n",
    "                    val = len(df[(df[feature]== val) & (df[class_col]==clazz)])/len(df[(df[class_col]==clazz)])\n",
    "                    self.cache[key]=val\n",
    "        \n",
    "        self.prior = {}\n",
    "        for clazz in df[class_col].unique(): #xclass\n",
    "            self.prior[clazz] = len(df[(df[class_col]==clazz)])/len(df)\n",
    "        \n",
    "    # ex: cond_prof('cap_color','r','e') => P(cap_color==red|edible)\n",
    "    def cond_prob(self, feature_col, feature_value, class_value):\n",
    "#          return P(feature_col==feature_value | class_col==class_value)\n",
    "        return self.cache[( feature_col, feature_value, class_value)]\n",
    "\n",
    "    def top_part(self, mushroom, clazz):\n",
    "        p = self.prior[clazz]\n",
    "        mdict = mushroom._asdict()\n",
    "        for (k,v) in mdict.items():\n",
    "            if k not in set(['Index', self.class_col]):\n",
    "                p*= self.cond_prob(k,v,clazz)\n",
    "        return p \n",
    "    \n",
    "    def evidence(self, mushroom):\n",
    "        return self.top_part(mushroom, 'e') + self.top_part(mushroom,'p')\n",
    "              \n",
    "    #mushroom is stuff you got from itertuple\n",
    "    def prob_edible(self, mushroom):\n",
    "#         return P(edible | all mushroom features)\n",
    "        return self.top_part(mushroom,'e')/ self.evidence(mushroom)"
   ]
  },
  {
   "cell_type": "code",
   "execution_count": 190,
   "metadata": {
    "collapsed": false
   },
   "outputs": [
    {
     "name": "stdout",
     "output_type": "stream",
     "text": [
      "4764 1743\n",
      "73.21346242508068\n"
     ]
    },
    {
     "data": {
      "image/png": "[encoded data removed]",
      "text/plain": [
       "<Figure size 576x396 with 1 Axes>"
      ]
     },
     "metadata": {
      "image/png": {
       "height": 335,
       "width": 498
      },
      "needs_background": "light"
     },
     "output_type": "display_data"
    }
   ],
   "source": [
    "#train\n",
    "good = 0\n",
    "bad = 0\n",
    "nb = NaiveBayes(pf, 'xclass')\n",
    "tmp = []\n",
    "for mushroom in pf.itertuples():\n",
    "    p = nb.prob_edible(mushroom)\n",
    "    tmp.append(p)\n",
    "    if (p > 0.5 and mushroom.xclass=='e') or (p <= 0.5 and mushroom.xclass=='p'):  #edible\n",
    "        good+=1 \n",
    "    else:\n",
    "        bad+=1\n",
    "print(good, bad)\n",
    "print(good/len(df)*100)\n",
    "plt.hist(tmp)\n",
    "plt.show()"
   ]
  },
  {
   "cell_type": "code",
   "execution_count": 191,
   "metadata": {
    "collapsed": false
   },
   "outputs": [
    {
     "name": "stdout",
     "output_type": "stream",
     "text": [
      "1211 406\n",
      "74.89177489177489\n"
     ]
    },
    {
     "data": {
      "image/png": "[encoded data removed]",
      "text/plain": [
       "<Figure size 576x396 with 1 Axes>"
      ]
     },
     "metadata": {
      "image/png": {
       "height": 335,
       "width": 492
      },
      "needs_background": "light"
     },
     "output_type": "display_data"
    }
   ],
   "source": [
    "#test\n",
    "test = pd.read_csv('data/mushrooms_homework_test.csv')\n",
    "h_bins = np.linspace(1,12,20)\n",
    "new_weight = discretize_data(test.weight, h_bins)\n",
    "new_height = discretize_data(test.height, h_bins)\n",
    "\n",
    "d = {'xclass': test.xclass, 'cap_color': test.cap_color , 'discretized_weight': new_weight, 'discretized_height': new_height}\n",
    "new_data = pd.DataFrame(data=d)\n",
    "\n",
    "good = 0\n",
    "bad = 0\n",
    "nb = NaiveBayes(pf, 'xclass')\n",
    "ntmp = []\n",
    "for mushroom in new_data.itertuples():\n",
    "    p = nb.prob_edible(mushroom)\n",
    "    ntmp.append(p)\n",
    "    if (p > 0.5 and mushroom.xclass=='e') or (p <= 0.5 and mushroom.xclass=='p'):  #edible\n",
    "        good+=1 \n",
    "    else:\n",
    "        bad+=1\n",
    "print(good, bad)\n",
    "print(good/len(new_data)*100)\n",
    "plt.hist(ntmp)\n",
    "plt.show()"
   ]
  },
  {
   "cell_type": "markdown",
   "metadata": {},
   "source": [
    "## Task 1.2) Gaussian Naive Bayes.\n",
    "\n",
    "We could assume a certain probability distribution function(pdf) for the conditional probability. One popular choice is normal distrubution/gaussian distribution.\n",
    "\n",
    "Let us understand this assumption intuitively. The idea is that the *weight* of *poisonous* mushroom is normally distributed around some mean with some width while the *weight* for edible mushroom is hopefully normally distributed around some other mean.\n",
    "\n",
    "Let us say that the weight of poisonous mushroom is normally distributed around $2\\pm1$ gram(I made up this number)  while the edible mushroom is normally distributed at $5\\pm 1$ gram. If we found a mushroom of 2.5 gram. It's probably the poisonous one since edible one should weight around 5 gram.\n",
    "\n",
    "<img src=\"gaussian.png\" width=\"400\"/>\n",
    "\n",
    "Concretely, we assume that the probability distribution of feature $X$ given that it is of class $y$ to be\n",
    "\n",
    "$$\n",
    "\\displaystyle\n",
    "pdf(X=x|y) = \\frac{1}{\\sqrt{2\\pi}} \\exp\\left[\\frac{-(x-\\mu_y)^2}{2\\sigma_y^2}\\right]\n",
    "$$\n",
    "\n",
    " - $\\mu_y$ is the mean of feature $X$ given that it is of class $y$. Ex: mean weight($X$) of poisonous mushroom (eg: 2 gram).\n",
    "\n",
    " - $\\sigma_y$ is the standard deviation of feature $X$ given that it is of class $y$. Ex std. dev. of weight of poisonous mushroom(eg: \\pm 1 gram)\n",
    " \n",
    "Recall the relatio between pdf and probability.\n",
    "$$\n",
    "    P(X \\in (x, x+\\delta x)|y) = \\int^{x+\\delta x}_x pdf(X=x) \\;\\text{d}x\n",
    "$$\n",
    "\n",
    "for small enough $\\delta x$ it becomes\n",
    "$$\n",
    "    P(X \\in (x, x+\\delta x)|y) = pdf(X=x) \\delta x\n",
    "$$\n",
    "\n",
    "Now here is the important part. From the above $P(X=x|y)$ and $P(X=x|\\sim y)$ has a factor of $\\delta x$(I drop of the range for brevity). This means that the factor of $\\delta x$ appear in both the numerator and denominator of the formula we use for calculating probability. Thus the $\\delta x$ cancels out nicely. This means that **we can just use pdf(X=x|y) as P(X=x|y)** in naive bayes formula we got and every thing will just work out. We don't have to worry about the $\\delta x$ part\n",
    "\n",
    "**Your task: build a classifier similar to what you did in 1.1. Except now you use gaussian distribution assumption for the continous features. Measure your performance against the test data**"
   ]
  },
  {
   "cell_type": "code",
   "execution_count": 7,
   "metadata": {
    "collapsed": true
   },
   "outputs": [],
   "source": [
    "class GaussianNaiveBayes:\n",
    "    def __init__(self, df, class_col):\n",
    "        self.df = df\n",
    "        self.class_col = class_col\n",
    "        self.cache= {}\n",
    "        for clazz in df[class_col].unique():\n",
    "            col = df[(df[class_col]== clazz)]   \n",
    "            mu = np.mean(col)      #mean of class y ('p'/'e')\n",
    "            std = np.std(col)      #std of class y ('p'/'e')\n",
    "            for feature in df.columns:\n",
    "                for val in df[feature].unique():\n",
    "                    key = (feature, val, clazz)\n",
    "                    if feature not in set(['cap_color','xclass']):   #for continuous features \n",
    "                        muy = mu[feature]\n",
    "                        stdy = std[feature]\n",
    "                        val = 1/np.sqrt(2*np.pi)*np.exp(-(val-muy)**2/(2*stdy**2))\n",
    "                    else: \n",
    "                        val = len(df[(df[feature]== val) & (df[class_col]==clazz)])/len(df[(df[class_col]==clazz)])\n",
    "                    self.cache[key]=val    \n",
    "        self.prior = {}\n",
    "        for clazz in df[class_col].unique(): #xclass\n",
    "            self.prior[clazz] = len(df[(df[class_col]==clazz)])/len(df)\n",
    "        \n",
    "    # ex: cond_prof('cap_color','r','e') => P(cap_color==red|edible)\n",
    "    def cond_prob(self, feature_col, feature_value, class_value):\n",
    "#          return P(feature_col==feature_value | class_col==class_value)\n",
    "        return self.cache[( feature_col, feature_value, class_value)]\n",
    "\n",
    "    def top_part(self, mushroom, clazz):\n",
    "        p = self.prior[clazz]\n",
    "        mdict = mushroom._asdict()\n",
    "        for (k,v) in mdict.items():\n",
    "            if k not in set(['Index', self.class_col]):\n",
    "                p*= self.cond_prob(k,v,clazz)\n",
    "        return p \n",
    "    \n",
    "    def evidence(self, mushroom):\n",
    "        return self.top_part(mushroom, 'e') + self.top_part(mushroom,'p')\n",
    "              \n",
    "    #mushroom is stuff you got from itertuple\n",
    "    def prob_edible(self, mushroom):\n",
    "#         return P(edible | all mushroom features)\n",
    "        return self.top_part(mushroom,'e')/ self.evidence(mushroom)"
   ]
  },
  {
   "cell_type": "code",
   "execution_count": 20,
   "metadata": {
    "collapsed": false
   },
   "outputs": [
    {
     "name": "stdout",
     "output_type": "stream",
     "text": [
      "4691 1816\n",
      "72.09159366835716\n"
     ]
    }
   ],
   "source": [
    "#train\n",
    "df = pd.read_csv('data/mushrooms_homework_train.csv')\n",
    "good = 0\n",
    "bad = 0\n",
    "nb = GaussianNaiveBayes(df, 'xclass')\n",
    "tmp = []\n",
    "for mushroom in df.itertuples():\n",
    "    p = nb.prob_edible(mushroom)\n",
    "    tmp.append(p)\n",
    "    if (p > 0.5 and mushroom.xclass=='e') or (p <= 0.5 and mushroom.xclass=='p'):  #edible\n",
    "        good+=1 \n",
    "    else:\n",
    "        bad+=1\n",
    "print(good, bad)\n",
    "print(good/len(df)*100)"
   ]
  },
  {
   "cell_type": "code",
   "execution_count": 21,
   "metadata": {
    "collapsed": false
   },
   "outputs": [
    {
     "name": "stdout",
     "output_type": "stream",
     "text": [
      "good: 1187 bad: 430\n",
      "73.40754483611627\n"
     ]
    }
   ],
   "source": [
    "#test\n",
    "test = pd.read_csv('data/mushrooms_homework_test.csv')\n",
    "good = 0\n",
    "bad = 0\n",
    "nb = GaussianNaiveBayes(test, 'xclass')\n",
    "ntmp = []\n",
    "for mushroom in test.itertuples():\n",
    "    p = nb.prob_edible(mushroom)\n",
    "    ntmp.append(p)\n",
    "    if (p > 0.5 and mushroom.xclass=='e') or (p <= 0.5 and mushroom.xclass=='p'):  #edible\n",
    "        good+=1 \n",
    "    else:\n",
    "        bad+=1\n",
    "print(\"good:\",good, \"bad:\", bad)\n",
    "print(good/len(test)*100)"
   ]
  },
  {
   "cell_type": "code",
   "execution_count": 23,
   "metadata": {
    "collapsed": false
   },
   "outputs": [
    {
     "name": "stdout",
     "output_type": "stream",
     "text": [
      "edible\n",
      "mu weight 4.310016666234851 std wieght 1.2925952634849402\n",
      "mu height 5.995639636920735 std height 1.9003781732257028\n",
      "poison\n",
      "mu weight 3.2141575420054815 std wieght 0.997240136134337\n",
      "mu height 5.003347075275469 std height 1.4240001555328925\n"
     ]
    }
   ],
   "source": [
    "col = df[(df['xclass']== 'e')]   \n",
    "mu = np.mean(col)      #mean of class y ('p'/'e')\n",
    "std = np.std(col)      #std of class y ('p'/'e')\n",
    "print(\"edible\")\n",
    "print(\"mu weight\", mu.weight, \"std wieght\", std.weight)\n",
    "print(\"mu height\", mu.height, \"std height\", std.height)\n",
    "dol = df[(df['xclass']== 'p')]   \n",
    "mu_d = np.mean(dol)      #mean of class y ('p'/'e')\n",
    "std_d = np.std(dol)      #std of class y ('p'/'e')\n",
    "print(\"poison\")\n",
    "print(\"mu weight\", mu_d.weight, \"std wieght\", std_d.weight)\n",
    "print(\"mu height\", mu_d.height, \"std height\", std_d.height)\n"
   ]
  },
  {
   "cell_type": "markdown",
   "metadata": {},
   "source": [
    "# Problem 2. Product Reviews\n",
    "\n",
    "Naive Bayes is quite powerful given its simplicity. Typically the usefulness of a Machine learning Algorithm is limited only by your imgination on what to ask. If you ask an interesting question, you got a useful system. If you ask a dump question, you got a useless system.\n",
    "\n",
    "In this problem we will explore a text mining application using Naive Bayes.\n",
    "\n",
    "The goal of this problem is to make a system that can read customer review and tells whether the customer recommend the product to others or not.\n",
    "\n",
    "The data is stolen from https://www.kaggle.com/nicapotato/womens-ecommerce-clothing-reviews\n",
    "I splitted it into train(`clothing_reviews_train.csv`) and test(`clothing_reviews_test.csv`) for you.\n",
    "\n",
    "The two columns that is relavant to this problem are.\n",
    "- Recommended IND\n",
    "- Title\n",
    "- Review Text\n",
    "\n",
    "**Do not use any other column**\n",
    "\n",
    "You could do challenging version (No extra point except for bragging rights)\n",
    "Use the data from http://jmcauley.ucsd.edu/data/amazon/ and do similar thing --> the book review is hugeeeeee\n"
   ]
  },
  {
   "cell_type": "markdown",
   "metadata": {},
   "source": [
    "## Your task\n",
    "Build a classifier which you can give it a reviewtext and review title and it can split out whether the reviewer recommend the product or not. Measure the performance on test data `clothing_reviews_test.csv`.\n",
    "\n",
    "## Some Guide for you.\n",
    "\n",
    "- Be sure to normalize your text. Example [here](https://machinelearningmastery.com/clean-text-machine-learning-python/). This includes\n",
    "    - lowercase everything\n",
    "    - clean out stop words\n",
    "    - get rid of punctuations\n",
    "    - stem the word\n",
    "    - Yes you may use nltk only for cleaning up part.\n",
    "- Be careful as you are multiplying a whole bunch of small numbers together. You are better off adding the log and exponentiate it back.\n",
    "- Read up lecture notes on spam filtering. Especially on how to deal with missing words. You can read up [old version of excercise 1 from sam](https://github.com/KongsakTi/PatternReg/tree/master/Exercise%201)\n",
    "- **Do not** get stuck on this alone. Find help/Consult your friends if you are stuck. Collaboration is allowed but you must understand what you send in."
   ]
  },
  {
   "cell_type": "code",
   "execution_count": 24,
   "metadata": {
    "collapsed": false
   },
   "outputs": [],
   "source": [
    "#read data \n",
    "rd = pd.read_csv('data/clothing_reviews_train.csv', usecols=['Title','Review Text','Recommended IND'])[['Title','Review Text','Recommended IND']]\n",
    "rd.columns = rd.columns \\\n",
    "    .str.strip() \\\n",
    "    .str.lower() \\\n",
    "    .str.replace(' ', '_') \\\n",
    "    .str.replace('(', '') \\\n",
    "    .str.replace(')', '') \\\n",
    "    .str.replace('-','_') \\\n",
    "    .map(lambda x: 'x'+x if x in keyword.kwlist else x )\n",
    "    \n",
    "rd.review_text = rd.title + \" \" + rd.review_text\n",
    "d = {'review_text': rd.review_text, 'recommended_ind': rd.recommended_ind}\n",
    "rv = pd.DataFrame(data=d)\n",
    "rv.review_text = rd.review_text.fillna('')\n",
    "# rv.head()"
   ]
  },
  {
   "cell_type": "code",
   "execution_count": 25,
   "metadata": {
    "collapsed": false
   },
   "outputs": [],
   "source": [
    "#Normalizing case\n",
    "rv.review_text = rv['review_text'].str.lower()"
   ]
  },
  {
   "cell_type": "code",
   "execution_count": 26,
   "metadata": {
    "collapsed": false
   },
   "outputs": [],
   "source": [
    "import string as string\n",
    "#get rid of punctuations\n",
    "table = str.maketrans('', '', string.punctuation)\n",
    "rv.review_text = rv.review_text.apply(lambda x: x.translate(table))"
   ]
  },
  {
   "cell_type": "code",
   "execution_count": 27,
   "metadata": {
    "collapsed": false
   },
   "outputs": [],
   "source": [
    "#clean out stop words\n",
    "from nltk.corpus import stopwords\n",
    "from nltk.tokenize import word_tokenize\n",
    "stop_words = set(stopwords.words('english'))\n",
    "\n",
    "def filter_stop_word(words):\n",
    "    word = []\n",
    "    tokens = word_tokenize(words)\n",
    "    for w in tokens:\n",
    "        if w not in stop_words:\n",
    "            word.append(w)\n",
    "    return word\n",
    "\n",
    "rv.review_text = rv.review_text.apply(lambda words: filter_stop_word(words))"
   ]
  },
  {
   "cell_type": "code",
   "execution_count": 28,
   "metadata": {
    "collapsed": false
   },
   "outputs": [],
   "source": [
    "#clean up stem the word\n",
    "from nltk.tokenize import word_tokenize\n",
    "from nltk.stem.porter import PorterStemmer\n",
    "porter = PorterStemmer()\n",
    "\n",
    "def stem_word(words):\n",
    "    stemmed = [porter.stem(word) for word in words]\n",
    "    return stemmed\n",
    "\n",
    "rv.review_text = rv.review_text.apply(lambda words: stem_word(words))"
   ]
  },
  {
   "cell_type": "code",
   "execution_count": 29,
   "metadata": {
    "collapsed": false
   },
   "outputs": [],
   "source": [
    "#separate yes, no reviews \n",
    "yes=[]\n",
    "no=[]\n",
    "for rev in rv.itertuples():\n",
    "    if rev.recommended_ind == 1: #yes \n",
    "        yes += rev.review_text\n",
    "    else:\n",
    "        no += rev.review_text"
   ]
  },
  {
   "cell_type": "code",
   "execution_count": 30,
   "metadata": {
    "collapsed": false
   },
   "outputs": [],
   "source": [
    "def find_prob(reviews):         # probs of word in each reviews \n",
    "    total_words = len(reviews)\n",
    "    unique_words, counts_words = np.unique(reviews, return_counts=True)    #count the number of each word from all reviews\n",
    "    prob = { k: v/total_words for k,v in zip(unique_words, counts_words)}  #divide by the total number of words that appear in all reviews\n",
    "    return prob\n",
    "probs_yes = find_prob(yes)\n",
    "probs_no = find_prob(no)"
   ]
  },
  {
   "cell_type": "code",
   "execution_count": 31,
   "metadata": {
    "collapsed": false
   },
   "outputs": [
    {
     "name": "stdout",
     "output_type": "stream",
     "text": [
      "0.8220217564340674 0.17797824356593261\n"
     ]
    }
   ],
   "source": [
    "#prior \n",
    "yes_prior = len(rv[rv.recommended_ind==1])/len(rv)\n",
    "no_prior = len(rv[rv.recommended_ind==0])/len(rv)\n",
    "print(yes_prior, no_prior)"
   ]
  },
  {
   "cell_type": "code",
   "execution_count": 34,
   "metadata": {
    "collapsed": true
   },
   "outputs": [],
   "source": [
    "def naiveBayes(review, probs, prior):\n",
    "    p = np.log(prior)\n",
    "    for word in review:\n",
    "        if word in probs:           \n",
    "            p_word = probs[word]    # probs of that word\n",
    "            p+= np.log(p_word)\n",
    "    return np.exp(p)\n",
    "\n",
    "def find_good_review(rev):\n",
    "    pYes = naiveBayes(rev.review_text, probs_yes, yes_prior)\n",
    "    pNo = naiveBayes(rev.review_text, probs_no, no_prior)\n",
    "    good_review = pYes/(pYes+pNo)\n",
    "    return good_review\n"
   ]
  },
  {
   "cell_type": "code",
   "execution_count": 37,
   "metadata": {
    "collapsed": false
   },
   "outputs": [
    {
     "name": "stdout",
     "output_type": "stream",
     "text": [
      "10571 8274\n",
      "0.5609445476253648\n"
     ]
    },
    {
     "data": {
      "image/png": "[encoded data removed]",
      "text/plain": [
       "<Figure size 432x288 with 1 Axes>"
      ]
     },
     "metadata": {
      "image/png": {
       "height": 253,
       "width": 387
      },
      "needs_background": "light"
     },
     "output_type": "display_data"
    }
   ],
   "source": [
    "tmp = []\n",
    "yes_rev = 0\n",
    "no_rev = 0\n",
    "for rev in rv.itertuples():\n",
    "    p = find_good_review(rev)\n",
    "    tmp.append(p)\n",
    "    if (p > 0.5 and rev.recommended_ind == 1) or (p <= 0.5 and rev.recommended_ind == 0):  #edible\n",
    "        yes_rev+=1\n",
    "    else:\n",
    "        no_rev +=1 \n",
    "print(yes_rev, no_rev)\n",
    "print(yes_rev/ len(rv))\n",
    "plt.hist(tmp)\n",
    "plt.show()"
   ]
  },
  {
   "cell_type": "code",
   "execution_count": null,
   "metadata": {
    "collapsed": false
   },
   "outputs": [],
   "source": []
  },
  {
   "cell_type": "code",
   "execution_count": null,
   "metadata": {
    "collapsed": true
   },
   "outputs": [],
   "source": []
  }
 ],
 "metadata": {
  "anaconda-cloud": {},
  "kernelspec": {
   "display_name": "Python 3",
   "language": "python",
   "name": "python3"
  },
  "language_info": {
   "codemirror_mode": {
    "name": "ipython",
    "version": 3
   },
   "file_extension": ".py",
   "mimetype": "text/x-python",
   "name": "python",
   "nbconvert_exporter": "python",
   "pygments_lexer": "ipython3",
   "version": "3.7.0"
  },
  "toc": {
   "colors": {
    "hover_highlight": "#DAA520",
    "running_highlight": "#FF0000",
    "selected_highlight": "#FFD700"
   },
   "moveMenuLeft": true,
   "nav_menu": {
    "height": "138px",
    "width": "252px"
   },
   "navigate_menu": true,
   "number_sections": false,
   "sideBar": true,
   "threshold": 4,
   "toc_cell": false,
   "toc_section_display": "block",
   "toc_window_display": false
  }
 },
 "nbformat": 4,
 "nbformat_minor": 2
}
